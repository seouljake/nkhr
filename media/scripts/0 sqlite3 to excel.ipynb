{
 "cells": [
  {
   "cell_type": "markdown",
   "metadata": {},
   "source": [
    "# Instantiate Database"
   ]
  },
  {
   "cell_type": "code",
   "execution_count": 1,
   "metadata": {},
   "outputs": [],
   "source": [
    "# CREATE TABLE Article(keywordstring TEXT, alink TEXT, anewspaper TEXT, adate TEXT, aday TEXT, agenre TEXT, atitle TEXT, aextra TEXT, acontent TEXT, aid TEXT PRIMARY KEY, aauthor TEXT, aemail TEXT, aprose TEXT, parsedyear INTEGER, parsedmonth INTEGER, parsedday INTEGER)\n",
    "\n",
    "# CREATE TABLE ArticleFactorLink(articleCommunity INTEGER, factoryType TEXT, articleIndex INT, aid TEXT REFERENCES Article(aid), fid INTEGER REFERENCES Factor(fid), score REAL)\n",
    "\n",
    "# CREATE TABLE Factor(factorVersion TEXT, factorCommunity INTEGER, factorType TEXT, fid INTEGER PRIMARY KEY, factorLoading TEXT, factorKeywordsKorean TEXT, factorKeywordsEnglish TEXT, factorLabelKorean TEXT, factorLabelEnglish TEXT)\n"
   ]
  },
  {
   "cell_type": "code",
   "execution_count": 2,
   "metadata": {},
   "outputs": [],
   "source": [
    "import pandas as pd\n",
    "import sqlite3 as sql"
   ]
  },
  {
   "cell_type": "code",
   "execution_count": 3,
   "metadata": {},
   "outputs": [],
   "source": [
    "# db = sql.connect(\"../data/0 sqlite3/nkhr_articles.db\")\n",
    "db = sql.connect(\"C:/Users/seoul/Dropbox/02 research/projects/_archive projects/2018.03 chapter_NKHR discourse/_afs_research/nkhr_discourse/nkhr_articles.db\")"
   ]
  },
  {
   "cell_type": "code",
   "execution_count": 4,
   "metadata": {},
   "outputs": [],
   "source": [
    "cursor = db.cursor()"
   ]
  },
  {
   "cell_type": "code",
   "execution_count": 5,
   "metadata": {},
   "outputs": [
    {
     "name": "stdout",
     "output_type": "stream",
     "text": [
      "[('Article',), ('Factor',), ('ArticleFactorLink',)]\n"
     ]
    }
   ],
   "source": [
    "cursor.execute(\"SELECT name FROM sqlite_master WHERE type='table';\")\n",
    "print(cursor.fetchall())"
   ]
  },
  {
   "cell_type": "markdown",
   "metadata": {},
   "source": [
    "# Query Factor & ArticleFactorLink Tables. Save as dataframes"
   ]
  },
  {
   "cell_type": "code",
   "execution_count": 6,
   "metadata": {},
   "outputs": [],
   "source": [
    "factor_columns = [\"factorVersion\",\"factorCommunity\", \"factorType\", \"fid\", \"factorLoading\", \"factorKeywordsKorean\", \"factorKeywordsEnglish\", \"factorLabelKorean\", \"factorLabelEnglish\"]\n",
    "cursor.execute(\"select * from factor;\")\n",
    "factor = pd.DataFrame(cursor.fetchall(),columns=factor_columns)"
   ]
  },
  {
   "cell_type": "code",
   "execution_count": 7,
   "metadata": {},
   "outputs": [
    {
     "data": {
      "text/plain": [
       "18      detention of defectors in China: Kim Yeong-hwa...\n",
       "35                              N & S strategic posturing\n",
       "244     real change, improvement, advancement, interna...\n",
       "264                               voting in the UN and EU\n",
       "271     ICC, COI: criminal, report, violation, extradi...\n",
       "295     bill, right to life: Saenuri, NDAP, Shim Jae-kwon\n",
       "300     food aid, aggreements: monitoring, transparenc...\n",
       "308              legislative conflict over passing a bill\n",
       "383     Korea-America alliance: FTA, ratification, mut...\n",
       "416                           politics of N/S unification\n",
       "572             domestic electoral & legislative politics\n",
       "746     economic sanctions for nuclear experiements, U...\n",
       "794     one-shot law, human rights act (SK), National ...\n",
       "879                legacy of the democratization movement\n",
       "880     some event involving an assembly member in Gye...\n",
       "924     NK security: violations, denuclearization, bal...\n",
       "1024              increase in defectors in Korean society\n",
       "1093           ICC, UN: criminal courts, adopt resolution\n",
       "1098    Perry process: Yongbyon, IAEA, light-water rea...\n",
       "1130                     NK nuclear issue & 6 party talks\n",
       "1218         Park's strong response to NK security crisis\n",
       "1328    6-Party Talks: negotiation: Kelly, Hill, Bush,...\n",
       "1417                        bilateral US-ROK relationship\n",
       "Name: factorLabelEnglish, dtype: object"
      ]
     },
     "execution_count": 7,
     "metadata": {},
     "output_type": "execute_result"
    }
   ],
   "source": [
    "factor.loc[factor.factorLabelEnglish.notnull(),\"factorLabelEnglish\"]"
   ]
  },
  {
   "cell_type": "code",
   "execution_count": 8,
   "metadata": {},
   "outputs": [],
   "source": [
    "article_factor_link_columns = [\"articleCommunity\", \"factorType\", \"articleIndex\", \"aid\", \"fid\", \"score\"]\n",
    "cursor.execute(\"select * from articlefactorlink;\")\n",
    "articlefactorlink = pd.DataFrame(cursor.fetchall(),columns=article_factor_link_columns)"
   ]
  },
  {
   "cell_type": "code",
   "execution_count": 9,
   "metadata": {},
   "outputs": [],
   "source": [
    "afl = articlefactorlink[[\"aid\",\"fid\",\"score\"]] "
   ]
  },
  {
   "cell_type": "code",
   "execution_count": 10,
   "metadata": {},
   "outputs": [
    {
     "data": {
      "text/html": [
       "<div>\n",
       "<style scoped>\n",
       "    .dataframe tbody tr th:only-of-type {\n",
       "        vertical-align: middle;\n",
       "    }\n",
       "\n",
       "    .dataframe tbody tr th {\n",
       "        vertical-align: top;\n",
       "    }\n",
       "\n",
       "    .dataframe thead th {\n",
       "        text-align: right;\n",
       "    }\n",
       "</style>\n",
       "<table border=\"1\" class=\"dataframe\">\n",
       "  <thead>\n",
       "    <tr style=\"text-align: right;\">\n",
       "      <th></th>\n",
       "      <th>aid</th>\n",
       "      <th>fid</th>\n",
       "      <th>score</th>\n",
       "    </tr>\n",
       "  </thead>\n",
       "  <tbody>\n",
       "    <tr>\n",
       "      <th>0</th>\n",
       "      <td>01101101.20040728000000301</td>\n",
       "      <td>35</td>\n",
       "      <td>0.015673</td>\n",
       "    </tr>\n",
       "    <tr>\n",
       "      <th>1</th>\n",
       "      <td>01101101.20040728000000301</td>\n",
       "      <td>53</td>\n",
       "      <td>0.019065</td>\n",
       "    </tr>\n",
       "    <tr>\n",
       "      <th>2</th>\n",
       "      <td>01101101.20040728000000301</td>\n",
       "      <td>130</td>\n",
       "      <td>0.025850</td>\n",
       "    </tr>\n",
       "    <tr>\n",
       "      <th>3</th>\n",
       "      <td>01101101.20040728000000301</td>\n",
       "      <td>256</td>\n",
       "      <td>0.010728</td>\n",
       "    </tr>\n",
       "    <tr>\n",
       "      <th>4</th>\n",
       "      <td>01101101.20040728000000301</td>\n",
       "      <td>580</td>\n",
       "      <td>0.044351</td>\n",
       "    </tr>\n",
       "  </tbody>\n",
       "</table>\n",
       "</div>"
      ],
      "text/plain": [
       "                          aid  fid     score\n",
       "0  01101101.20040728000000301   35  0.015673\n",
       "1  01101101.20040728000000301   53  0.019065\n",
       "2  01101101.20040728000000301  130  0.025850\n",
       "3  01101101.20040728000000301  256  0.010728\n",
       "4  01101101.20040728000000301  580  0.044351"
      ]
     },
     "execution_count": 10,
     "metadata": {},
     "output_type": "execute_result"
    }
   ],
   "source": [
    "afl[0:5]"
   ]
  },
  {
   "cell_type": "markdown",
   "metadata": {},
   "source": [
    "# Query Article by year. Save as dictionary of dataframes"
   ]
  },
  {
   "cell_type": "code",
   "execution_count": 11,
   "metadata": {},
   "outputs": [],
   "source": [
    "YearsToQuery = [1994,2002,2003,2004,2005,2014,2015,2016]"
   ]
  },
  {
   "cell_type": "code",
   "execution_count": 12,
   "metadata": {},
   "outputs": [],
   "source": [
    "dbdic = {}"
   ]
  },
  {
   "cell_type": "code",
   "execution_count": 13,
   "metadata": {},
   "outputs": [],
   "source": [
    "article_columns = [\"aid\",\"parsedyear\",\"adate\",\"anewspaper\",\"atitle\", \"aprose\"]"
   ]
  },
  {
   "cell_type": "code",
   "execution_count": 14,
   "metadata": {},
   "outputs": [],
   "source": [
    "for year in YearsToQuery:\n",
    "    cursor.execute(\"select aid, parsedyear, adate, anewspaper, atitle, aprose from article where parsedyear=\"+str(year))\n",
    "    dbdic[str(year)] = pd.DataFrame(cursor.fetchall(),columns=article_columns)"
   ]
  },
  {
   "cell_type": "code",
   "execution_count": 15,
   "metadata": {},
   "outputs": [
    {
     "data": {
      "text/html": [
       "<div>\n",
       "<style scoped>\n",
       "    .dataframe tbody tr th:only-of-type {\n",
       "        vertical-align: middle;\n",
       "    }\n",
       "\n",
       "    .dataframe tbody tr th {\n",
       "        vertical-align: top;\n",
       "    }\n",
       "\n",
       "    .dataframe thead th {\n",
       "        text-align: right;\n",
       "    }\n",
       "</style>\n",
       "<table border=\"1\" class=\"dataframe\">\n",
       "  <thead>\n",
       "    <tr style=\"text-align: right;\">\n",
       "      <th></th>\n",
       "      <th>aid</th>\n",
       "      <th>parsedyear</th>\n",
       "      <th>adate</th>\n",
       "      <th>anewspaper</th>\n",
       "      <th>atitle</th>\n",
       "      <th>aprose</th>\n",
       "    </tr>\n",
       "  </thead>\n",
       "  <tbody>\n",
       "    <tr>\n",
       "      <th>0</th>\n",
       "      <td>02100601.20160120073324135</td>\n",
       "      <td>2005</td>\n",
       "      <td>2005.12.30</td>\n",
       "      <td>한국경제</td>\n",
       "      <td>[2006 신년기획] 북핵 6자회담 진전 &amp;apos;관심&amp;apos;</td>\n",
       "      <td>올해 북핵 6자회담은 대북 금융제재를 둘러싼 북·미 간 대치가 심화되면서 진전 없는...</td>\n",
       "    </tr>\n",
       "    <tr>\n",
       "      <th>1</th>\n",
       "      <td>01100101.20051230100017977</td>\n",
       "      <td>2005</td>\n",
       "      <td>2005.12.30</td>\n",
       "      <td>경향신문</td>\n",
       "      <td>#남북정상회담 조건없이 응하겠다# 李총리 밝혀...새해엔 연금개혁 역점</td>\n",
       "      <td>이해찬 총리는 29일 남북정상회담에 대해 #정부는 장소나 조건에 구애받지 않고 응하...</td>\n",
       "    </tr>\n",
       "    <tr>\n",
       "      <th>2</th>\n",
       "      <td>01101001.20051230100011743</td>\n",
       "      <td>2005</td>\n",
       "      <td>2005.12.30</td>\n",
       "      <td>한겨레</td>\n",
       "      <td>[유레카]인권 제국주의</td>\n",
       "      <td>올해는 인권 논의가 특별히 ‘소란스레’ 제기된 해였다. 인권보다는 국익과 안보를 앞...</td>\n",
       "    </tr>\n",
       "    <tr>\n",
       "      <th>3</th>\n",
       "      <td>01100301.20051230100000055</td>\n",
       "      <td>2005</td>\n",
       "      <td>2005.12.30</td>\n",
       "      <td>내일신문</td>\n",
       "      <td>북핵해법 가닥잡아야 남북정상 만날 듯</td>\n",
       "      <td>한반도 평화체제 수립 과정에서 가장 큰 걸림돌이 되고 있는 북핵문제 해결을 위해 관...</td>\n",
       "    </tr>\n",
       "    <tr>\n",
       "      <th>4</th>\n",
       "      <td>01100201.20051230100000353</td>\n",
       "      <td>2005</td>\n",
       "      <td>2005.12.30</td>\n",
       "      <td>국민일보</td>\n",
       "      <td>2006 한반도 기상도 / 北의 위폐제조 의혹 '돌발 기류'</td>\n",
       "      <td>■6자회담매년 그렇듯이 북핵문제는 안개 속에 가려진 채 새해를 맞았다.정부 당국자는...</td>\n",
       "    </tr>\n",
       "    <tr>\n",
       "      <th>...</th>\n",
       "      <td>...</td>\n",
       "      <td>...</td>\n",
       "      <td>...</td>\n",
       "      <td>...</td>\n",
       "      <td>...</td>\n",
       "      <td>...</td>\n",
       "    </tr>\n",
       "    <tr>\n",
       "      <th>1664</th>\n",
       "      <td>01101001.2005010210000900785</td>\n",
       "      <td>2005</td>\n",
       "      <td>2005.01.02</td>\n",
       "      <td>한겨레</td>\n",
       "      <td>보수로 가는 미국사회 (1) 보수의 새 거점-기독교 복음주의</td>\n",
       "      <td>1. 보수의 새 거점-기독교복음주의  2. 3개 축-헤리티지재단, 러시 림보, 폭스...</td>\n",
       "    </tr>\n",
       "    <tr>\n",
       "      <th>1665</th>\n",
       "      <td>01101001.20050102100900785</td>\n",
       "      <td>2005</td>\n",
       "      <td>2005.01.02</td>\n",
       "      <td>한겨레</td>\n",
       "      <td>보수로 가는 미국사회 (1) 보수의 새 거점-기독교 복음주의</td>\n",
       "      <td>1. 보수의 새 거점-기독교복음주의  2. 3개 축-헤리티지재단, 러시 림보, 폭스...</td>\n",
       "    </tr>\n",
       "    <tr>\n",
       "      <th>1666</th>\n",
       "      <td>01101101.20050101100006273</td>\n",
       "      <td>2005</td>\n",
       "      <td>2005.01.01</td>\n",
       "      <td>한국일보</td>\n",
       "      <td>2005 신년특집/ 올 한반도 정세 전망</td>\n",
       "      <td>올 한해 한반도 정세를 관통할 첫번째 키워드는 미 백악관 안보보좌관에서 국무장관으로...</td>\n",
       "    </tr>\n",
       "    <tr>\n",
       "      <th>1667</th>\n",
       "      <td>02100101.20160118143524337</td>\n",
       "      <td>2005</td>\n",
       "      <td>2005.01.01</td>\n",
       "      <td>매일경제</td>\n",
       "      <td>#미국도 북한도 우리가 설득해야 한다#</td>\n",
       "      <td>◆신년대담 / 김대중 前 대통령◆매일경제신문은 광복 60주년, 을사조약 100주년,...</td>\n",
       "    </tr>\n",
       "    <tr>\n",
       "      <th>1668</th>\n",
       "      <td>01100201.20050101100000536</td>\n",
       "      <td>2005</td>\n",
       "      <td>2005.01.01</td>\n",
       "      <td>국민일보</td>\n",
       "      <td>2005 남북관계 7대 키워드 / 한반도 ‘뜻깊은 해’…정상회담 열릴까</td>\n",
       "      <td>2005년은 남북관계에서 뜻깊은 해다. 남북정상회담 5주년인데다 광복 60돌이다. ...</td>\n",
       "    </tr>\n",
       "  </tbody>\n",
       "</table>\n",
       "<p>1669 rows × 6 columns</p>\n",
       "</div>"
      ],
      "text/plain": [
       "                               aid  parsedyear       adate anewspaper  \\\n",
       "0       02100601.20160120073324135        2005  2005.12.30       한국경제   \n",
       "1       01100101.20051230100017977        2005  2005.12.30       경향신문   \n",
       "2       01101001.20051230100011743        2005  2005.12.30        한겨레   \n",
       "3       01100301.20051230100000055        2005  2005.12.30       내일신문   \n",
       "4       01100201.20051230100000353        2005  2005.12.30       국민일보   \n",
       "...                            ...         ...         ...        ...   \n",
       "1664  01101001.2005010210000900785        2005  2005.01.02        한겨레   \n",
       "1665    01101001.20050102100900785        2005  2005.01.02        한겨레   \n",
       "1666    01101101.20050101100006273        2005  2005.01.01       한국일보   \n",
       "1667    02100101.20160118143524337        2005  2005.01.01       매일경제   \n",
       "1668    01100201.20050101100000536        2005  2005.01.01       국민일보   \n",
       "\n",
       "                                       atitle  \\\n",
       "0       [2006 신년기획] 북핵 6자회담 진전 &apos;관심&apos;   \n",
       "1     #남북정상회담 조건없이 응하겠다# 李총리 밝혀...새해엔 연금개혁 역점   \n",
       "2                                [유레카]인권 제국주의   \n",
       "3                        북핵해법 가닥잡아야 남북정상 만날 듯   \n",
       "4           2006 한반도 기상도 / 北의 위폐제조 의혹 '돌발 기류'   \n",
       "...                                       ...   \n",
       "1664        보수로 가는 미국사회 (1) 보수의 새 거점-기독교 복음주의   \n",
       "1665        보수로 가는 미국사회 (1) 보수의 새 거점-기독교 복음주의   \n",
       "1666                   2005 신년특집/ 올 한반도 정세 전망   \n",
       "1667                    #미국도 북한도 우리가 설득해야 한다#   \n",
       "1668  2005 남북관계 7대 키워드 / 한반도 ‘뜻깊은 해’…정상회담 열릴까   \n",
       "\n",
       "                                                 aprose  \n",
       "0     올해 북핵 6자회담은 대북 금융제재를 둘러싼 북·미 간 대치가 심화되면서 진전 없는...  \n",
       "1     이해찬 총리는 29일 남북정상회담에 대해 #정부는 장소나 조건에 구애받지 않고 응하...  \n",
       "2     올해는 인권 논의가 특별히 ‘소란스레’ 제기된 해였다. 인권보다는 국익과 안보를 앞...  \n",
       "3     한반도 평화체제 수립 과정에서 가장 큰 걸림돌이 되고 있는 북핵문제 해결을 위해 관...  \n",
       "4     ■6자회담매년 그렇듯이 북핵문제는 안개 속에 가려진 채 새해를 맞았다.정부 당국자는...  \n",
       "...                                                 ...  \n",
       "1664  1. 보수의 새 거점-기독교복음주의  2. 3개 축-헤리티지재단, 러시 림보, 폭스...  \n",
       "1665  1. 보수의 새 거점-기독교복음주의  2. 3개 축-헤리티지재단, 러시 림보, 폭스...  \n",
       "1666  올 한해 한반도 정세를 관통할 첫번째 키워드는 미 백악관 안보보좌관에서 국무장관으로...  \n",
       "1667  ◆신년대담 / 김대중 前 대통령◆매일경제신문은 광복 60주년, 을사조약 100주년,...  \n",
       "1668  2005년은 남북관계에서 뜻깊은 해다. 남북정상회담 5주년인데다 광복 60돌이다. ...  \n",
       "\n",
       "[1669 rows x 6 columns]"
      ]
     },
     "execution_count": 15,
     "metadata": {},
     "output_type": "execute_result"
    }
   ],
   "source": [
    "dbdic[\"2005\"]"
   ]
  },
  {
   "cell_type": "code",
   "execution_count": 16,
   "metadata": {},
   "outputs": [],
   "source": [
    "db.close()"
   ]
  },
  {
   "cell_type": "markdown",
   "metadata": {},
   "source": [
    "# Define function to extract component articles - for dyads, triads & cliques"
   ]
  },
  {
   "cell_type": "code",
   "execution_count": 17,
   "metadata": {},
   "outputs": [],
   "source": [
    "# construct dataframe for a particular network component (node, dyad, triad, clique, etc.) in a particular year\n",
    "\n",
    "def extract_articles(year,factor_list):\n",
    "    \n",
    "    # instantiate component dataframe as article db for the specified year\n",
    "    cdf = dbdic[str(year)]\n",
    "    \n",
    "    # number of factors\n",
    "    n_factor = len(factor_list)\n",
    "    \n",
    "    # dict of dataframes. article_factor_link tables for each factor\n",
    "    afl_dict = {str(factor):afl[afl.fid==factor].sort_values(\"score\",ascending=False) for factor in factor_list}\n",
    "    \n",
    "    # add a variable, score_rank, to each factor afl dataframe\n",
    "    for factor in factor_list:\n",
    "        afl_dict[str(factor)][\"score_rank\"] = range(0,afl_dict[str(factor)].shape[0])    \n",
    "    \n",
    "    for factor in factor_list:\n",
    "        cdf = cdf.merge(afl_dict[str(factor)],how=\"inner\",on=\"aid\")\n",
    "        \n",
    "    # sort articles by sum of score_ranks\n",
    "    cdf_columns = list(cdf.columns)\n",
    "    score_columns = [col for col in cdf_columns if \"rank\" in col]\n",
    "    cdf[\"Rank_Sum\"]= cdf[score_columns].sum(axis=1)\n",
    "    cdf.sort_values(\"Rank_Sum\",ascending=True,inplace=True)\n",
    "    cdf[\"Overall_Rank\"] = range(0,cdf.shape[0])\n",
    "    \n",
    "    # move Overall_Rank to the first column\n",
    "    cdf = cdf[ ['Overall_Rank'] + [ col for col in cdf.columns if col != 'Overall_Rank' ] ]\n",
    "\n",
    "    return cdf"
   ]
  },
  {
   "cell_type": "code",
   "execution_count": 18,
   "metadata": {},
   "outputs": [],
   "source": [
    "# convert each article row of a cdf to a \"user-friendly\" html format   \n",
    "\n",
    "def row_to_html(row):\n",
    "    \n",
    "    # note: row is a tuple with two elements\n",
    "    # row[0] = row index\n",
    "    # row[1] = Series\n",
    "    \n",
    "    # let's redefine row as the Series\n",
    "    row = row[1]\n",
    "     \n",
    "    # article title\n",
    "    p_title = \"<h3>\"+row[\"atitle\"]+\"</h3>\"\n",
    "    \n",
    "    # article newspaper & date\n",
    "    p_paper_date = \"<p>\"+row[\"anewspaper\"]+\"\\t\"+row[\"adate\"]+\"</p>\"\n",
    "    \n",
    "    # article id\n",
    "    p_id = \"<p>ID \"+row[\"aid\"]+\"</p>\"\n",
    "    \n",
    "    # overall rank\n",
    "    p_rank = \"<p>Article Rank: \"+str(row[\"Overall_Rank\"])+\"</p>\"\n",
    "\n",
    "    # article content\n",
    "    p_text = \"<p>\"+row[\"aprose\"]+\"</p>\"\n",
    "    \n",
    "    # breaks\n",
    "    p_break = \"<br><br><br><br><br>\"\n",
    "    \n",
    "    \n",
    "    # concatenate html\n",
    "    row_html = p_rank + p_title + p_paper_date + p_id + p_text + p_break\n",
    "\n",
    "    #print(row_html)\n",
    "    \n",
    "    return row_html"
   ]
  },
  {
   "cell_type": "code",
   "execution_count": 19,
   "metadata": {},
   "outputs": [],
   "source": [
    "# convert the cdf articles to a \"user-friendly\" html file\n",
    "\n",
    "def df_to_html(cdf,year,factor_list,cnick):\n",
    "    \n",
    "    \n",
    "    factor_list_str = [str(factor) for factor in factor_list]\n",
    "    \n",
    "    fname = str(year)+\"_\"+cnick+\"___\"+\"_\".join(factor_list_str)+\".html\"\n",
    "    fpath = \"../data/\"\n",
    "    \n",
    "    f = open(fpath+fname,'w',encoding=\"utf-8\")\n",
    "    \n",
    "    for row in cdf.iterrows():\n",
    "        f.write(row_to_html(row))"
   ]
  },
  {
   "cell_type": "markdown",
   "metadata": {},
   "source": [
    "# 1994 components"
   ]
  },
  {
   "cell_type": "markdown",
   "metadata": {},
   "source": [
    "### 1994 Bi-partisan dyad\n",
    "-  416\tpolitics of N/S unification\n",
    "-  1024\tincrease in defectors in Korean society"
   ]
  },
  {
   "cell_type": "code",
   "execution_count": 114,
   "metadata": {
    "scrolled": false
   },
   "outputs": [],
   "source": [
    "# construct cdf (component dataframe) and export\n",
    "cdf = extract_articles(1994,[416,1024])\n",
    "df_to_html(cdf,1994,[416,1024],\"bipartisan dyad\")"
   ]
  },
  {
   "cell_type": "markdown",
   "metadata": {},
   "source": [
    "### 1994 Progressive linkages to dyad (416,1024,[35,1130,1098]) - analyze as a clique\n",
    "-  #1 35\tN & S strategic posturing\n",
    "-  #2 1130\tNK nuclear issue & 6 party talks\n",
    "-  #3 1098\tPerry process: Yongbyon, IAEA, LWR"
   ]
  },
  {
   "cell_type": "code",
   "execution_count": 115,
   "metadata": {},
   "outputs": [],
   "source": [
    "# analyze all three linkages as a clique\n",
    "cdf = extract_articles(1994,[416,1024,35,1130,1098])\n",
    "df_to_html(cdf,1994,[416,1024,35,1130,1098],\"progressive clique\")"
   ]
  },
  {
   "cell_type": "markdown",
   "metadata": {},
   "source": [
    "# 2002 - 2005 components"
   ]
  },
  {
   "cell_type": "markdown",
   "metadata": {},
   "source": [
    "### 2002\tBi-partisan dyad\n",
    "-  416\tpolitics of N/S unification\n",
    "-  1024 increase in defectors in Korean society"
   ]
  },
  {
   "cell_type": "code",
   "execution_count": 116,
   "metadata": {},
   "outputs": [],
   "source": [
    "cdf = extract_articles(2002,[416,1024])\n",
    "df_to_html(cdf,2002,[416,1024],\"bipartisan dyad\")"
   ]
  },
  {
   "cell_type": "markdown",
   "metadata": {},
   "source": [
    "### 2003\tConservative triad\t\n",
    "-  416\tpolitics of N/S unification\n",
    "-  1024\tincrease in defectors in Korean society\n",
    "-  879\tlegacy of the democratization movement"
   ]
  },
  {
   "cell_type": "code",
   "execution_count": 117,
   "metadata": {},
   "outputs": [],
   "source": [
    "cdf = extract_articles(2003,[416,1024,879])\n",
    "df_to_html(cdf,2003,[416,1024,879],\"conservative triad\")"
   ]
  },
  {
   "cell_type": "markdown",
   "metadata": {},
   "source": [
    "### 2004\tConservative clique\n",
    "-  416\tpolitics of N/S unification\n",
    "-  1024\tincrease in defectors in Korean society\n",
    "-  1130\tNK nuclear issue and 6 party talks\n",
    "-  35\tN & S strategic posturing\n",
    "\n",
    "### 2004\tConservative linkages to the clique - treat as clique\n",
    "-  #1 879\tlegacy of the democratization movement\n",
    "-  #2 218\tstrong response to NK security crisis"
   ]
  },
  {
   "cell_type": "code",
   "execution_count": 144,
   "metadata": {},
   "outputs": [],
   "source": [
    "cdf = extract_articles(2004,[416,1024,1130,35])\n",
    "df_to_html(cdf,2004,[416,1024,1130,35],\"conservative clique\")\n",
    "\n",
    "cdf = extract_articles(2004,[416,1024,1130,879])\n",
    "df_to_html(cdf,2004,[416,1024,1130,35,879],\"conservative link 1 to clique\")\n",
    "\n",
    "cdf = extract_articles(2004,[416,1024,1130,35,218])\n",
    "df_to_html(cdf,2004,[416,1024,1130,35,218],\"conservative link 2 to clique\")"
   ]
  },
  {
   "cell_type": "markdown",
   "metadata": {},
   "source": [
    "### 2005\tBi-partisan clique\n",
    "-  416\tpolitics of N/S unification\n",
    "-  1024\tincrease in defectors in Korean society\n",
    "-  1130\tNK nuclear issue & 6 party talks\n",
    "-  35\tN & S strategic posturing\n",
    "-  1098\tPerry process: Yongbyon, IAEA, LWR\n",
    "-  1328\t6-Party Talks: negotiation: Kelly, Hill, Bush, State Dep"
   ]
  },
  {
   "cell_type": "code",
   "execution_count": 125,
   "metadata": {},
   "outputs": [],
   "source": [
    "cdf = extract_articles(2005,[416,1024,1130,35,1098,1328])\n",
    "df_to_html(cdf,2005,[416,1024,1130,35,1098,1328],\"bipartisan clique\")"
   ]
  },
  {
   "cell_type": "markdown",
   "metadata": {},
   "source": [
    "### 2005\tConservative linkages to the clique\n",
    "-  #1 879\tlegacy of the democratization movement\n",
    "-  #2 244\treal change, improvement, advancement, international community\n",
    "-  #3 264\tvoting in the UN and EU\n",
    "-  #4 1218\tstrong response to NK security crisis"
   ]
  },
  {
   "cell_type": "code",
   "execution_count": 129,
   "metadata": {},
   "outputs": [],
   "source": [
    "cdf = extract_articles(2005,[416,1024,1130,35,1098,1328,879])\n",
    "df_to_html(cdf,2005,[416,1024,1130,35,1098,1328,879],\"conservative link 1 to clique\")\n",
    "\n",
    "cdf = extract_articles(2005,[416,1024,1130,35,1098,1328,244])\n",
    "df_to_html(cdf,2005,[416,1024,1130,35,1098,1328,244],\"conservative link 2 to clique\")\n",
    "\n",
    "cdf = extract_articles(2005,[416,1024,1130,35,1098,1328,264])\n",
    "df_to_html(cdf,2005,[416,1024,1130,35,1098,1328,264],\"conservative link 3 to clique\")\n",
    "\n",
    "cdf = extract_articles(2005,[416,1024,1130,35,1098,1328,1218])\n",
    "df_to_html(cdf,2005,[416,1024,1130,35,1098,1328,1218],\"conservative link 4 to clique\")"
   ]
  },
  {
   "cell_type": "markdown",
   "metadata": {},
   "source": [
    "### 2005\tProgressive linkages to the clique\n",
    "-  #1 1417\tbilateral US-ROK relationship\n",
    "-  #2 746\teconomic sanctions for nuclear experiments, UN Security Council"
   ]
  },
  {
   "cell_type": "code",
   "execution_count": 130,
   "metadata": {},
   "outputs": [],
   "source": [
    "cdf = extract_articles(2005,[416,1024,1130,35,1098,1328,1417])\n",
    "df_to_html(cdf,2005,[416,1024,1130,35,1098,1328,1417],\"progressive link 1 to clique\")\n",
    "\n",
    "cdf = extract_articles(2005,[416,1024,1130,35,1098,1328,746])\n",
    "df_to_html(cdf,2005,[416,1024,1130,35,1098,1328,746],\"progressive link 2 to clique\")"
   ]
  },
  {
   "cell_type": "markdown",
   "metadata": {},
   "source": [
    "# 2014 - 2016 components"
   ]
  },
  {
   "cell_type": "markdown",
   "metadata": {},
   "source": [
    "### 2014\tProgressive clique\n",
    "-  416\tpolitics of N/S unification\n",
    "-  1024\tincrease in defectors in Korean society\n",
    "-  35\tN & S strategic posturing\n",
    "-  271\tICC, COI: criminal, report, violation, extradition\n",
    "-  1093\tICC, UN: criminal courts, adopt resolution\n",
    "-  1130\tNK nuclear issue & 6 party talks\n",
    "-  746\teconomic sanctions for nuclear experiments, UN Security Council"
   ]
  },
  {
   "cell_type": "code",
   "execution_count": 132,
   "metadata": {},
   "outputs": [],
   "source": [
    "# too many latent topics --> no articles contain all of these\n",
    "# cdf = extract_articles(2014,[416,1024,35,271,1093,1130,746])\n",
    "# df_to_html(cdf,2014,[416,1024,35,271,1093,1130,746],\"progressive clique\")"
   ]
  },
  {
   "cell_type": "code",
   "execution_count": 21,
   "metadata": {},
   "outputs": [],
   "source": [
    "# try a smaller subset\n",
    "cdf = extract_articles(2014,[416,1024,35,1093])\n",
    "df_to_html(cdf,2014,[416,1024,35,1093],\"progressive clique\")"
   ]
  },
  {
   "cell_type": "markdown",
   "metadata": {},
   "source": [
    "### 2014\tProgressive dyad #1 linked to clique\n",
    "-  1417\tbilateral US-ROK relationship\n",
    "-  383\tKorea-America alliance: FTA, ratification, mutual assistance"
   ]
  },
  {
   "cell_type": "code",
   "execution_count": 133,
   "metadata": {},
   "outputs": [],
   "source": [
    "cdf = extract_articles(2014,[416,1024,35,271,1093,1130,746,1417,383])\n",
    "df_to_html(cdf,2014,[416,1024,35,271,1093,1130,746,1417,383],\"progressive link 1 to clique\")"
   ]
  },
  {
   "cell_type": "markdown",
   "metadata": {},
   "source": [
    "### 2014\tProgressive dyad #2 linked to clique\n",
    "-  308\tlegislative conflict over passing a bill\n",
    "-  295\tbill, right to life: Saenuri, NDAP, Shim Jae-kwon"
   ]
  },
  {
   "cell_type": "code",
   "execution_count": 134,
   "metadata": {},
   "outputs": [],
   "source": [
    "cdf = extract_articles(2014,[416,1024,35,271,1093,1130,746,308,295])\n",
    "df_to_html(cdf,2014,[416,1024,35,271,1093,1130,746,308,295],\"progressive link 2 to clique\")"
   ]
  },
  {
   "cell_type": "markdown",
   "metadata": {},
   "source": [
    "### 2014\tConservative triad linked to clique\n",
    "-  1024\tincrease in defectors in Korean society\n",
    "-  271\tICC, COI: criminal, report, violation, extradition\n",
    "-  1093\tICC, UN: criminal courts, adopt resolution"
   ]
  },
  {
   "cell_type": "code",
   "execution_count": 145,
   "metadata": {},
   "outputs": [],
   "source": [
    "cdf = extract_articles(2014,[416,1024,35,271,1093,1130,746,1024,271,1093])\n",
    "df_to_html(cdf,2014,[416,1024,35,271,1093,1130,746,1024,271,1093],\"conservative link to clique\")"
   ]
  },
  {
   "cell_type": "markdown",
   "metadata": {},
   "source": [
    "### 2015\tBi-partisan triad\n",
    "-  416\tpolitics of N/S unification\n",
    "-  1024\tincrease in defectors in Korean society\n",
    "-  1218\tPark's strong response to NK security crisis"
   ]
  },
  {
   "cell_type": "code",
   "execution_count": 146,
   "metadata": {},
   "outputs": [],
   "source": [
    "cdf = extract_articles(2015,[416,1024,1218])\n",
    "df_to_html(cdf,2015,[416,1024,1218],\"bipartisan triad\")"
   ]
  },
  {
   "cell_type": "markdown",
   "metadata": {},
   "source": [
    "### 2015\tBi-partisan dyad\n",
    "-  416\tpolitics of N/S unification\n",
    "-  308\tlegislative conflict over passing a bill"
   ]
  },
  {
   "cell_type": "code",
   "execution_count": 147,
   "metadata": {},
   "outputs": [],
   "source": [
    "cdf = extract_articles(2015,[416,308])\n",
    "df_to_html(cdf,2015,[416,308],\"bipartisan dyad\")"
   ]
  },
  {
   "cell_type": "markdown",
   "metadata": {},
   "source": [
    "### 2015\tConservative clique\n",
    "-  416\tpolitics of N/S unification\n",
    "-  308\tlegislative conflict over passing a bill\n",
    "-  572\tdomestic electoral & legislative politics\n",
    "-  794\tone-shot law, human rights act (SK), National Assembly procedure"
   ]
  },
  {
   "cell_type": "code",
   "execution_count": 135,
   "metadata": {},
   "outputs": [],
   "source": [
    "cdf = extract_articles(2015,[416,308,572,794])\n",
    "df_to_html(cdf,2015,[416,308,572,794],\"conservative clique\")"
   ]
  },
  {
   "cell_type": "markdown",
   "metadata": {},
   "source": [
    "### 2015\tConservative link to clique\n",
    "-  295\tbill, right to life: Saenuri, NDAP, Shim Jae-kwon"
   ]
  },
  {
   "cell_type": "code",
   "execution_count": 136,
   "metadata": {},
   "outputs": [],
   "source": [
    "cdf = extract_articles(2015,[416,308,572,794,295])\n",
    "df_to_html(cdf,2015,[416,308,572,794,295],\"conservative link to clique\")"
   ]
  },
  {
   "cell_type": "markdown",
   "metadata": {},
   "source": [
    "### 2015\tProgressive clique\n",
    "-  416\tpolitics of N/S unification\n",
    "-  1130\tNK nuclear issue & 6 party talks\n",
    "-  746\teconomic sanctions for nuclear experiments, UN Security Council\n",
    "-  924\tNK security: violations, denuclearization, ballistic missile launches, provocation"
   ]
  },
  {
   "cell_type": "code",
   "execution_count": 137,
   "metadata": {},
   "outputs": [],
   "source": [
    "cdf = extract_articles(2015,[416,1130,746,924])\n",
    "df_to_html(cdf,2015,[416,1130,746,924],\"progressive clique\")"
   ]
  },
  {
   "cell_type": "markdown",
   "metadata": {},
   "source": [
    "### 2015\tProgressive linkages (each separately linked to progressive clique)\n",
    "-  1417\tbilateral US-ROK relationship\n",
    "-  35\tN & S strategic posturing\n",
    "-  383\tKorea-America alliance: FTA, ratification, mutual assistance\n",
    "-  244\treal change, improvement, advancement, international community"
   ]
  },
  {
   "cell_type": "code",
   "execution_count": 138,
   "metadata": {},
   "outputs": [],
   "source": [
    "cdf = extract_articles(2015,[416,1130,746,924,1417])\n",
    "df_to_html(cdf,2015,[416,1130,746,924,1417],\"progressive link 1 to clique\")\n",
    "\n",
    "cdf = extract_articles(2015,[416,1130,746,924,35])\n",
    "df_to_html(cdf,2015,[416,1130,746,924,35],\"progressive link 2 to clique\")\n",
    "\n",
    "cdf = extract_articles(2015,[416,1130,746,924,383])\n",
    "df_to_html(cdf,2015,[416,1130,746,924,383],\"progressive link 3 to clique\")\n",
    "\n",
    "cdf = extract_articles(2015,[416,1130,746,924,244])\n",
    "df_to_html(cdf,2015,[416,1130,746,924,244],\"progressive link 4 to clique\")"
   ]
  },
  {
   "cell_type": "markdown",
   "metadata": {},
   "source": [
    "### 2016\tBi-partisan triad\n",
    "-  35\tN & S strategic posturing\n",
    "-  1218\tstrong response to NK security crisis\n",
    "-  794\tone-shot law, human rights act (SK), National Assembly procedure"
   ]
  },
  {
   "cell_type": "code",
   "execution_count": 139,
   "metadata": {},
   "outputs": [],
   "source": [
    "cdf = extract_articles(2016,[35,1218,794])\n",
    "df_to_html(cdf,2016,[35,1218,794],\"bipartisan triad\")"
   ]
  },
  {
   "cell_type": "markdown",
   "metadata": {},
   "source": [
    "### 2016\tConservative clique\n",
    "-  572\tdomestic electoral & legislative politics\n",
    "-  416\tpolitics of N/S unification\n",
    "-  794\tone-shot law, human rights act (SK), National Assembly procedure\n",
    "-  308\tlegislative conflict over passing a bill\n",
    "-  1024\tincrease in defectors in Korean society\n",
    "-  35\tN & S strategic posturing"
   ]
  },
  {
   "cell_type": "code",
   "execution_count": 140,
   "metadata": {},
   "outputs": [],
   "source": [
    "# # too many latent topics --> no articles contain all of these\n",
    "# cdf = extract_articles(2016,[572,416,794,308,1024,35])\n",
    "# df_to_html(cdf,2016,[572,416,794,308,1024,35],\"conservative clique\")"
   ]
  },
  {
   "cell_type": "code",
   "execution_count": 23,
   "metadata": {},
   "outputs": [],
   "source": [
    "# try a smaller subset\n",
    "cdf = extract_articles(2016,[572,794,308,416])\n",
    "df_to_html(cdf,2016,[572,794,308,416],\"conservative clique\")"
   ]
  },
  {
   "cell_type": "markdown",
   "metadata": {},
   "source": [
    "### 2016\tProgressive triad #1\n",
    "-  416\tpolitics of N/S unification\n",
    "-  1218\tstrong response to NK security crisis\n",
    "-  746\teconomic sanctions for nuclear experiments, UN Security Council"
   ]
  },
  {
   "cell_type": "code",
   "execution_count": 141,
   "metadata": {},
   "outputs": [],
   "source": [
    "cdf = extract_articles(2016,[416,1218,746])\n",
    "df_to_html(cdf,2016,[416,1218,746],\"progressive triad 1\")"
   ]
  },
  {
   "cell_type": "markdown",
   "metadata": {},
   "source": [
    "### 2016\tProgressive triad #2\n",
    "-  416\tpolitics of N/S unification\n",
    "-  746\teconomic sanctions for nuclear experiments, UN Security Council\n",
    "-  924\tNK security: violations, denuclearization, ballistic missile launches, provocation"
   ]
  },
  {
   "cell_type": "code",
   "execution_count": 143,
   "metadata": {},
   "outputs": [],
   "source": [
    "cdf = extract_articles(2016,[416,746,924])\n",
    "df_to_html(cdf,2016,[416,746,924],\"progressive triad 2\")"
   ]
  },
  {
   "cell_type": "code",
   "execution_count": null,
   "metadata": {},
   "outputs": [],
   "source": []
  }
 ],
 "metadata": {
  "kernelspec": {
   "display_name": "Python 3",
   "language": "python",
   "name": "python3"
  },
  "language_info": {
   "codemirror_mode": {
    "name": "ipython",
    "version": 3
   },
   "file_extension": ".py",
   "mimetype": "text/x-python",
   "name": "python",
   "nbconvert_exporter": "python",
   "pygments_lexer": "ipython3",
   "version": "3.7.3"
  }
 },
 "nbformat": 4,
 "nbformat_minor": 4
}
