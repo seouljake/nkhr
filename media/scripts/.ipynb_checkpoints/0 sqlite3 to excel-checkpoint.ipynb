{
 "cells": [
  {
   "cell_type": "markdown",
   "metadata": {},
   "source": [
    "# Instantiate Database"
   ]
  },
  {
   "cell_type": "code",
   "execution_count": 9,
   "metadata": {},
   "outputs": [],
   "source": [
    "# CREATE TABLE Article(keywordstring TEXT, alink TEXT, anewspaper TEXT, adate TEXT, aday TEXT, agenre TEXT, atitle TEXT, aextra TEXT, acontent TEXT, aid TEXT PRIMARY KEY, aauthor TEXT, aemail TEXT, aprose TEXT, parsedyear INTEGER, parsedmonth INTEGER, parsedday INTEGER)\n",
    "\n",
    "# CREATE TABLE ArticleFactorLink(articleCommunity INTEGER, factoryType TEXT, articleIndex INT, aid TEXT REFERENCES Article(aid), fid INTEGER REFERENCES Factor(fid), score REAL)\n",
    "\n",
    "# CREATE TABLE Factor(factorVersion TEXT, factorCommunity INTEGER, factorType TEXT, fid INTEGER PRIMARY KEY, factorLoading TEXT, factorKeywordsKorean TEXT, factorKeywordsEnglish TEXT, factorLabelKorean TEXT, factorLabelEnglish TEXT)\n"
   ]
  },
  {
   "cell_type": "code",
   "execution_count": 10,
   "metadata": {},
   "outputs": [],
   "source": [
    "import pandas as pd\n",
    "import sqlite3 as sql"
   ]
  },
  {
   "cell_type": "code",
   "execution_count": 11,
   "metadata": {},
   "outputs": [],
   "source": [
    "# db = sql.connect(\"../data/0 sqlite3/nkhr_articles.db\")\n",
    "db = sql.connect(\"C:/Users/seoul/Dropbox/02 research/projects/_archive projects/2018.03 chapter_NKHR discourse/_afs_research/nkhr_discourse/nkhr_articles.db\")"
   ]
  },
  {
   "cell_type": "code",
   "execution_count": 12,
   "metadata": {},
   "outputs": [],
   "source": [
    "cursor = db.cursor()"
   ]
  },
  {
   "cell_type": "code",
   "execution_count": 13,
   "metadata": {},
   "outputs": [
    {
     "name": "stdout",
     "output_type": "stream",
     "text": [
      "[('Article',), ('Factor',), ('ArticleFactorLink',)]\n"
     ]
    }
   ],
   "source": [
    "cursor.execute(\"SELECT name FROM sqlite_master WHERE type='table';\")\n",
    "print(cursor.fetchall())"
   ]
  },
  {
   "cell_type": "markdown",
   "metadata": {},
   "source": [
    "# Query Factor & ArticleFactorLink Tables. Save as dataframes"
   ]
  },
  {
   "cell_type": "code",
   "execution_count": 14,
   "metadata": {},
   "outputs": [],
   "source": [
    "factor_columns = [\"factorVersion\",\"factorCommunity\", \"factorType\", \"fid\", \"factorLoading\", \"factorKeywordsKorean\", \"factorKeywordsEnglish\", \"factorLabelKorean\", \"factorLabelEnglish\"]\n",
    "cursor.execute(\"select * from factor;\")\n",
    "factor = pd.DataFrame(cursor.fetchall(),columns=factor_columns)"
   ]
  },
  {
   "cell_type": "code",
   "execution_count": 15,
   "metadata": {},
   "outputs": [
    {
     "data": {
      "text/plain": [
       "18      detention of defectors in China: Kim Yeong-hwa...\n",
       "35                              N & S strategic posturing\n",
       "244     real change, improvement, advancement, interna...\n",
       "264                               voting in the UN and EU\n",
       "271     ICC, COI: criminal, report, violation, extradi...\n",
       "295     bill, right to life: Saenuri, NDAP, Shim Jae-kwon\n",
       "300     food aid, aggreements: monitoring, transparenc...\n",
       "308              legislative conflict over passing a bill\n",
       "383     Korea-America alliance: FTA, ratification, mut...\n",
       "416                           politics of N/S unification\n",
       "572             domestic electoral & legislative politics\n",
       "746     economic sanctions for nuclear experiements, U...\n",
       "794     one-shot law, human rights act (SK), National ...\n",
       "879                legacy of the democratization movement\n",
       "880     some event involving an assembly member in Gye...\n",
       "924     NK security: violations, denuclearization, bal...\n",
       "1024              increase in defectors in Korean society\n",
       "1093           ICC, UN: criminal courts, adopt resolution\n",
       "1098    Perry process: Yongbyon, IAEA, light-water rea...\n",
       "1130                     NK nuclear issue & 6 party talks\n",
       "1218         Park's strong response to NK security crisis\n",
       "1328    6-Party Talks: negotiation: Kelly, Hill, Bush,...\n",
       "1417                        bilateral US-ROK relationship\n",
       "Name: factorLabelEnglish, dtype: object"
      ]
     },
     "execution_count": 15,
     "metadata": {},
     "output_type": "execute_result"
    }
   ],
   "source": [
    "factor.loc[factor.factorLabelEnglish.notnull(),\"factorLabelEnglish\"]"
   ]
  },
  {
   "cell_type": "code",
   "execution_count": 16,
   "metadata": {},
   "outputs": [],
   "source": [
    "article_factor_link_columns = [\"articleCommunity\", \"factorType\", \"articleIndex\", \"aid\", \"fid\", \"score\"]\n",
    "cursor.execute(\"select * from articlefactorlink;\")\n",
    "articlefactorlink = pd.DataFrame(cursor.fetchall(),columns=article_factor_link_columns)"
   ]
  },
  {
   "cell_type": "code",
   "execution_count": 17,
   "metadata": {},
   "outputs": [],
   "source": [
    "afl = articlefactorlink[[\"aid\",\"fid\",\"score\"]] "
   ]
  },
  {
   "cell_type": "code",
   "execution_count": 18,
   "metadata": {},
   "outputs": [
    {
     "data": {
      "text/html": [
       "<div>\n",
       "<style scoped>\n",
       "    .dataframe tbody tr th:only-of-type {\n",
       "        vertical-align: middle;\n",
       "    }\n",
       "\n",
       "    .dataframe tbody tr th {\n",
       "        vertical-align: top;\n",
       "    }\n",
       "\n",
       "    .dataframe thead th {\n",
       "        text-align: right;\n",
       "    }\n",
       "</style>\n",
       "<table border=\"1\" class=\"dataframe\">\n",
       "  <thead>\n",
       "    <tr style=\"text-align: right;\">\n",
       "      <th></th>\n",
       "      <th>aid</th>\n",
       "      <th>fid</th>\n",
       "      <th>score</th>\n",
       "    </tr>\n",
       "  </thead>\n",
       "  <tbody>\n",
       "    <tr>\n",
       "      <th>0</th>\n",
       "      <td>01101101.20040728000000301</td>\n",
       "      <td>35</td>\n",
       "      <td>0.015673</td>\n",
       "    </tr>\n",
       "    <tr>\n",
       "      <th>1</th>\n",
       "      <td>01101101.20040728000000301</td>\n",
       "      <td>53</td>\n",
       "      <td>0.019065</td>\n",
       "    </tr>\n",
       "    <tr>\n",
       "      <th>2</th>\n",
       "      <td>01101101.20040728000000301</td>\n",
       "      <td>130</td>\n",
       "      <td>0.025850</td>\n",
       "    </tr>\n",
       "    <tr>\n",
       "      <th>3</th>\n",
       "      <td>01101101.20040728000000301</td>\n",
       "      <td>256</td>\n",
       "      <td>0.010728</td>\n",
       "    </tr>\n",
       "    <tr>\n",
       "      <th>4</th>\n",
       "      <td>01101101.20040728000000301</td>\n",
       "      <td>580</td>\n",
       "      <td>0.044351</td>\n",
       "    </tr>\n",
       "  </tbody>\n",
       "</table>\n",
       "</div>"
      ],
      "text/plain": [
       "                          aid  fid     score\n",
       "0  01101101.20040728000000301   35  0.015673\n",
       "1  01101101.20040728000000301   53  0.019065\n",
       "2  01101101.20040728000000301  130  0.025850\n",
       "3  01101101.20040728000000301  256  0.010728\n",
       "4  01101101.20040728000000301  580  0.044351"
      ]
     },
     "execution_count": 18,
     "metadata": {},
     "output_type": "execute_result"
    }
   ],
   "source": [
    "afl[0:5]"
   ]
  },
  {
   "cell_type": "markdown",
   "metadata": {},
   "source": [
    "# Query Article by year. Save as dictionary of dataframes"
   ]
  },
  {
   "cell_type": "code",
   "execution_count": 19,
   "metadata": {},
   "outputs": [],
   "source": [
    "YearsToQuery = [1994,2002,2003,2004,2005,2014,2015,2016]"
   ]
  },
  {
   "cell_type": "code",
   "execution_count": 20,
   "metadata": {},
   "outputs": [],
   "source": [
    "dbdic = {}"
   ]
  },
  {
   "cell_type": "code",
   "execution_count": 21,
   "metadata": {},
   "outputs": [],
   "source": [
    "article_columns = [\"aid\",\"parsedyear\",\"adate\",\"anewspaper\",\"atitle\", \"acontent\"]"
   ]
  },
  {
   "cell_type": "code",
   "execution_count": 22,
   "metadata": {},
   "outputs": [],
   "source": [
    "for year in YearsToQuery:\n",
    "    cursor.execute(\"select aid, parsedyear, adate, anewspaper, atitle, acontent from article where parsedyear=\"+str(year))\n",
    "    dbdic[str(year)] = pd.DataFrame(cursor.fetchall(),columns=article_columns)"
   ]
  },
  {
   "cell_type": "code",
   "execution_count": 23,
   "metadata": {},
   "outputs": [
    {
     "data": {
      "text/html": [
       "<div>\n",
       "<style scoped>\n",
       "    .dataframe tbody tr th:only-of-type {\n",
       "        vertical-align: middle;\n",
       "    }\n",
       "\n",
       "    .dataframe tbody tr th {\n",
       "        vertical-align: top;\n",
       "    }\n",
       "\n",
       "    .dataframe thead th {\n",
       "        text-align: right;\n",
       "    }\n",
       "</style>\n",
       "<table border=\"1\" class=\"dataframe\">\n",
       "  <thead>\n",
       "    <tr style=\"text-align: right;\">\n",
       "      <th></th>\n",
       "      <th>aid</th>\n",
       "      <th>parsedyear</th>\n",
       "      <th>adate</th>\n",
       "      <th>anewspaper</th>\n",
       "      <th>atitle</th>\n",
       "      <th>acontent</th>\n",
       "    </tr>\n",
       "  </thead>\n",
       "  <tbody>\n",
       "    <tr>\n",
       "      <th>0</th>\n",
       "      <td>02100601.20160120073324135</td>\n",
       "      <td>2005</td>\n",
       "      <td>2005.12.30</td>\n",
       "      <td>한국경제</td>\n",
       "      <td>[2006 신년기획] 북핵 6자회담 진전 &amp;apos;관심&amp;apos;</td>\n",
       "      <td>올해북핵6자회담은대북금융제재를둘러싼북·미간대치가심화되면서진전없는소모전..북한은미국의...</td>\n",
       "    </tr>\n",
       "    <tr>\n",
       "      <th>1</th>\n",
       "      <td>01100101.20051230100017977</td>\n",
       "      <td>2005</td>\n",
       "      <td>2005.12.30</td>\n",
       "      <td>경향신문</td>\n",
       "      <td>#남북정상회담 조건없이 응하겠다# 李총리 밝혀...새해엔 연금개혁 역점</td>\n",
       "      <td>#북한의인권은누구나보호받고존중돼야하는데정부입장에서는북한주민들의인권보다더절박한것이생존...</td>\n",
       "    </tr>\n",
       "    <tr>\n",
       "      <th>2</th>\n",
       "      <td>01101001.20051230100011743</td>\n",
       "      <td>2005</td>\n",
       "      <td>2005.12.30</td>\n",
       "      <td>한겨레</td>\n",
       "      <td>[유레카]인권 제국주의</td>\n",
       "      <td>여세를몰아북한인권법제정등대북한인권공세를펼쳤다.그러나인권위는인류가발전시켜온인권개념의공...</td>\n",
       "    </tr>\n",
       "    <tr>\n",
       "      <th>3</th>\n",
       "      <td>01100301.20051230100000055</td>\n",
       "      <td>2005</td>\n",
       "      <td>2005.12.30</td>\n",
       "      <td>내일신문</td>\n",
       "      <td>북핵해법 가닥잡아야 남북정상 만날 듯</td>\n",
       "      <td>한반도평화체제수립과정에서가장큰걸림돌이되고있는북핵문제해결을위해관련국들은6자회담통해‘9...</td>\n",
       "    </tr>\n",
       "    <tr>\n",
       "      <th>4</th>\n",
       "      <td>01100201.20051230100000353</td>\n",
       "      <td>2005</td>\n",
       "      <td>2005.12.30</td>\n",
       "      <td>국민일보</td>\n",
       "      <td>2006 한반도 기상도 / 北의 위폐제조 의혹 '돌발 기류'</td>\n",
       "      <td>북한은실제로2005년11월5차1단계6자회담에서미국의금융제재를문제삼았다...북한은.....</td>\n",
       "    </tr>\n",
       "    <tr>\n",
       "      <th>...</th>\n",
       "      <td>...</td>\n",
       "      <td>...</td>\n",
       "      <td>...</td>\n",
       "      <td>...</td>\n",
       "      <td>...</td>\n",
       "      <td>...</td>\n",
       "    </tr>\n",
       "    <tr>\n",
       "      <th>1664</th>\n",
       "      <td>01101001.2005010210000900785</td>\n",
       "      <td>2005</td>\n",
       "      <td>2005.01.02</td>\n",
       "      <td>한겨레</td>\n",
       "      <td>보수로 가는 미국사회 (1) 보수의 새 거점-기독교 복음주의</td>\n",
       "      <td>1.보수의새거점-기독교복음주의2.3개축-헤리티지재단,러시림보,폭스뉴..지난해10월대...</td>\n",
       "    </tr>\n",
       "    <tr>\n",
       "      <th>1665</th>\n",
       "      <td>01101001.20050102100900785</td>\n",
       "      <td>2005</td>\n",
       "      <td>2005.01.02</td>\n",
       "      <td>한겨레</td>\n",
       "      <td>보수로 가는 미국사회 (1) 보수의 새 거점-기독교 복음주의</td>\n",
       "      <td>1.보수의새거점-기독교복음주의2.3개축-헤리티지재단,러시림보,폭스뉴..지난해10월대...</td>\n",
       "    </tr>\n",
       "    <tr>\n",
       "      <th>1666</th>\n",
       "      <td>01101101.20050101100006273</td>\n",
       "      <td>2005</td>\n",
       "      <td>2005.01.01</td>\n",
       "      <td>한국일보</td>\n",
       "      <td>2005 신년특집/ 올 한반도 정세 전망</td>\n",
       "      <td>라이스장관취임이후북한의6자회담복귀는초읽기에들어갈것이확실해보인다...북한이미국의양보를...</td>\n",
       "    </tr>\n",
       "    <tr>\n",
       "      <th>1667</th>\n",
       "      <td>02100101.20160118143524337</td>\n",
       "      <td>2005</td>\n",
       "      <td>2005.01.01</td>\n",
       "      <td>매일경제</td>\n",
       "      <td>#미국도 북한도 우리가 설득해야 한다#</td>\n",
       "      <td>북한과미국의네오콘이전쟁을한다고해도우리의동의가필요하다.남북한군축등가시적인긴장완화방안에...</td>\n",
       "    </tr>\n",
       "    <tr>\n",
       "      <th>1668</th>\n",
       "      <td>01100201.20050101100000536</td>\n",
       "      <td>2005</td>\n",
       "      <td>2005.01.01</td>\n",
       "      <td>국민일보</td>\n",
       "      <td>2005 남북관계 7대 키워드 / 한반도 ‘뜻깊은 해’…정상회담 열릴까</td>\n",
       "      <td>‘북한인권법’이1일부터시행돼새해에는대규모기획탈북과같은부작용이우려된다.북한은주민들의탈...</td>\n",
       "    </tr>\n",
       "  </tbody>\n",
       "</table>\n",
       "<p>1669 rows × 6 columns</p>\n",
       "</div>"
      ],
      "text/plain": [
       "                               aid  parsedyear       adate anewspaper  \\\n",
       "0       02100601.20160120073324135        2005  2005.12.30       한국경제   \n",
       "1       01100101.20051230100017977        2005  2005.12.30       경향신문   \n",
       "2       01101001.20051230100011743        2005  2005.12.30        한겨레   \n",
       "3       01100301.20051230100000055        2005  2005.12.30       내일신문   \n",
       "4       01100201.20051230100000353        2005  2005.12.30       국민일보   \n",
       "...                            ...         ...         ...        ...   \n",
       "1664  01101001.2005010210000900785        2005  2005.01.02        한겨레   \n",
       "1665    01101001.20050102100900785        2005  2005.01.02        한겨레   \n",
       "1666    01101101.20050101100006273        2005  2005.01.01       한국일보   \n",
       "1667    02100101.20160118143524337        2005  2005.01.01       매일경제   \n",
       "1668    01100201.20050101100000536        2005  2005.01.01       국민일보   \n",
       "\n",
       "                                       atitle  \\\n",
       "0       [2006 신년기획] 북핵 6자회담 진전 &apos;관심&apos;   \n",
       "1     #남북정상회담 조건없이 응하겠다# 李총리 밝혀...새해엔 연금개혁 역점   \n",
       "2                                [유레카]인권 제국주의   \n",
       "3                        북핵해법 가닥잡아야 남북정상 만날 듯   \n",
       "4           2006 한반도 기상도 / 北의 위폐제조 의혹 '돌발 기류'   \n",
       "...                                       ...   \n",
       "1664        보수로 가는 미국사회 (1) 보수의 새 거점-기독교 복음주의   \n",
       "1665        보수로 가는 미국사회 (1) 보수의 새 거점-기독교 복음주의   \n",
       "1666                   2005 신년특집/ 올 한반도 정세 전망   \n",
       "1667                    #미국도 북한도 우리가 설득해야 한다#   \n",
       "1668  2005 남북관계 7대 키워드 / 한반도 ‘뜻깊은 해’…정상회담 열릴까   \n",
       "\n",
       "                                               acontent  \n",
       "0     올해북핵6자회담은대북금융제재를둘러싼북·미간대치가심화되면서진전없는소모전..북한은미국의...  \n",
       "1     #북한의인권은누구나보호받고존중돼야하는데정부입장에서는북한주민들의인권보다더절박한것이생존...  \n",
       "2     여세를몰아북한인권법제정등대북한인권공세를펼쳤다.그러나인권위는인류가발전시켜온인권개념의공...  \n",
       "3     한반도평화체제수립과정에서가장큰걸림돌이되고있는북핵문제해결을위해관련국들은6자회담통해‘9...  \n",
       "4     북한은실제로2005년11월5차1단계6자회담에서미국의금융제재를문제삼았다...북한은.....  \n",
       "...                                                 ...  \n",
       "1664  1.보수의새거점-기독교복음주의2.3개축-헤리티지재단,러시림보,폭스뉴..지난해10월대...  \n",
       "1665  1.보수의새거점-기독교복음주의2.3개축-헤리티지재단,러시림보,폭스뉴..지난해10월대...  \n",
       "1666  라이스장관취임이후북한의6자회담복귀는초읽기에들어갈것이확실해보인다...북한이미국의양보를...  \n",
       "1667  북한과미국의네오콘이전쟁을한다고해도우리의동의가필요하다.남북한군축등가시적인긴장완화방안에...  \n",
       "1668  ‘북한인권법’이1일부터시행돼새해에는대규모기획탈북과같은부작용이우려된다.북한은주민들의탈...  \n",
       "\n",
       "[1669 rows x 6 columns]"
      ]
     },
     "execution_count": 23,
     "metadata": {},
     "output_type": "execute_result"
    }
   ],
   "source": [
    "dbdic[\"2005\"]"
   ]
  },
  {
   "cell_type": "code",
   "execution_count": 24,
   "metadata": {},
   "outputs": [],
   "source": [
    "db.close()"
   ]
  },
  {
   "cell_type": "markdown",
   "metadata": {},
   "source": [
    "# Define function to extract component articles - for dyads, triads & cliques"
   ]
  },
  {
   "cell_type": "code",
   "execution_count": 87,
   "metadata": {},
   "outputs": [],
   "source": [
    "def extract_articles(year,factor_list):\n",
    "    \n",
    "    # instantiate component dataframe from article db by year\n",
    "    cdf = dbdic[str(year)]\n",
    "    \n",
    "    # number of factors\n",
    "    n_factor = len(factor_list)\n",
    "    \n",
    "    # dict of dataframes. article_factor_link tables for each factor\n",
    "    afl_dict = {str(factor):afl[afl.fid==factor].sort_values(\"score\",ascending=False) for factor in factor_list}\n",
    "    \n",
    "    # add a variable, score_rank, to each factor afl dataframe\n",
    "    print(\"add a variable, score_rank\")\n",
    "    \n",
    "    \n",
    "    for factor in factor_list:\n",
    "        cdf = cdf.merge(afl_dict[str(factor)],how=\"inner\",on=\"aid\")\n",
    "        \n",
    "    # sort articles by sum of score_ranks\n",
    "    print(\"sort articles by sum of score_rank\")\n",
    "    \n",
    "    print(cdf.shape)\n",
    "        \n",
    "    return cdf"
   ]
  },
  {
   "cell_type": "code",
   "execution_count": 92,
   "metadata": {},
   "outputs": [],
   "source": [
    "def row_to_html(row):\n",
    "    \n",
    "    # convert each article row of a cdf to a \"user-friendly\" html format\n",
    "    print(\"converting an article row to html\")\n",
    "    \n",
    "    row_html = row\n",
    "    \n",
    "    return row_html"
   ]
  },
  {
   "cell_type": "code",
   "execution_count": 97,
   "metadata": {},
   "outputs": [],
   "source": [
    "def df_to_html(cdf,year,factor_list):\n",
    "    \n",
    "    # convert the cdf articles to a \"user-friendly\" html file\n",
    "    print(\"convert the cdf articles to a user-friendly html file\")\n",
    "    \n",
    "    factor_list_str = [str(factor) for factor in factor_list]\n",
    "    \n",
    "    fname = str(year)+\"_\"+\"_\".join(factor_list_str)+\".html\"\n",
    "    fpath = \"\"\n",
    "    \n",
    "    f = open(fpath+fname,'w',encoding=\"utf-8\")\n",
    "    \n",
    "    print(\"get rows, not columns\")\n",
    "    for row in cdf:\n",
    "        f.write(row_to_html(row))"
   ]
  },
  {
   "cell_type": "markdown",
   "metadata": {},
   "source": [
    "# 1994 components"
   ]
  },
  {
   "cell_type": "markdown",
   "metadata": {},
   "source": [
    "### 1994 Bi-partisan dyad\n",
    "-  416\tpolitics of N/S unification\n",
    "-  1024\tincrease in defectors in Korean society"
   ]
  },
  {
   "cell_type": "code",
   "execution_count": 98,
   "metadata": {},
   "outputs": [
    {
     "name": "stdout",
     "output_type": "stream",
     "text": [
      "add a variable, score_rank\n",
      "sort articles by sum of score_rank\n",
      "(122, 10)\n",
      "export cdf articles as an html file\n",
      "convert the cdf articles to a user-friendly html file\n",
      "get rows, not columns\n",
      "converting an article row to html\n",
      "converting an article row to html\n",
      "converting an article row to html\n",
      "converting an article row to html\n",
      "converting an article row to html\n",
      "converting an article row to html\n",
      "converting an article row to html\n",
      "converting an article row to html\n",
      "converting an article row to html\n",
      "converting an article row to html\n"
     ]
    }
   ],
   "source": [
    "cdf = extract_articles(1994,[416,1024])\n",
    "df_to_html(cdf,1994,[416,1024])"
   ]
  },
  {
   "cell_type": "markdown",
   "metadata": {},
   "source": [
    "### 1994 Progressive linkages to dyad (416,1024,[35,1130,1098]) - analyze as a clique\n",
    "-  #1 35\tN & S strategic posturing\n",
    "-  #2 1130\tNK nuclear issue & 6 party talks\n",
    "-  #3 1098\tPerry process: Yongbyon, IAEA, LWR"
   ]
  },
  {
   "cell_type": "code",
   "execution_count": 99,
   "metadata": {},
   "outputs": [
    {
     "name": "stdout",
     "output_type": "stream",
     "text": [
      "add a variable, score_rank\n",
      "sort articles by sum of score_rank\n",
      "(10, 16)\n",
      "export cdf articles as an html file\n",
      "convert the cdf articles to a user-friendly html file\n",
      "get rows, not columns\n",
      "converting an article row to html\n",
      "converting an article row to html\n",
      "converting an article row to html\n",
      "converting an article row to html\n",
      "converting an article row to html\n",
      "converting an article row to html\n",
      "converting an article row to html\n",
      "converting an article row to html\n",
      "converting an article row to html\n",
      "converting an article row to html\n",
      "converting an article row to html\n",
      "converting an article row to html\n",
      "converting an article row to html\n",
      "converting an article row to html\n",
      "converting an article row to html\n",
      "converting an article row to html\n"
     ]
    }
   ],
   "source": [
    "# analyze all three linkages as a clique\n",
    "cdf = extract_articles(1994,[416,1024,35,1130,1098])\n",
    "df_to_html(cdf,1994,[416,1024,35,1130,1098])"
   ]
  },
  {
   "cell_type": "markdown",
   "metadata": {},
   "source": [
    "# 2002 - 2005 components"
   ]
  },
  {
   "cell_type": "markdown",
   "metadata": {},
   "source": [
    "### 2002\tBi-partisan dyad\n",
    "-  416\tpolitics of N/S unification\n",
    "-  1024 increase in defectors in Korean society"
   ]
  },
  {
   "cell_type": "code",
   "execution_count": 100,
   "metadata": {},
   "outputs": [
    {
     "name": "stdout",
     "output_type": "stream",
     "text": [
      "add a variable, score_rank\n",
      "sort articles by sum of score_rank\n",
      "(82, 10)\n",
      "export cdf articles as an html file\n",
      "convert the cdf articles to a user-friendly html file\n",
      "get rows, not columns\n",
      "converting an article row to html\n",
      "converting an article row to html\n",
      "converting an article row to html\n",
      "converting an article row to html\n",
      "converting an article row to html\n",
      "converting an article row to html\n",
      "converting an article row to html\n",
      "converting an article row to html\n",
      "converting an article row to html\n",
      "converting an article row to html\n"
     ]
    }
   ],
   "source": [
    "cdf = extract_articles(2002,[416,1024])\n",
    "df_to_html(cdf,2002,[416,1024])"
   ]
  },
  {
   "cell_type": "markdown",
   "metadata": {},
   "source": [
    "### 2003\tConservative triad\t\n",
    "-  416\tpolitics of N/S unification\n",
    "-  1024\tincrease in defectors in Korean society\n",
    "-  879\tlegacy of the democratization movement"
   ]
  },
  {
   "cell_type": "code",
   "execution_count": 50,
   "metadata": {},
   "outputs": [
    {
     "name": "stdout",
     "output_type": "stream",
     "text": [
      "(47, 12)\n"
     ]
    },
    {
     "data": {
      "text/html": [
       "<div>\n",
       "<style scoped>\n",
       "    .dataframe tbody tr th:only-of-type {\n",
       "        vertical-align: middle;\n",
       "    }\n",
       "\n",
       "    .dataframe tbody tr th {\n",
       "        vertical-align: top;\n",
       "    }\n",
       "\n",
       "    .dataframe thead th {\n",
       "        text-align: right;\n",
       "    }\n",
       "</style>\n",
       "<table border=\"1\" class=\"dataframe\">\n",
       "  <thead>\n",
       "    <tr style=\"text-align: right;\">\n",
       "      <th></th>\n",
       "      <th>aid</th>\n",
       "      <th>parsedyear</th>\n",
       "      <th>adate</th>\n",
       "      <th>anewspaper</th>\n",
       "      <th>atitle</th>\n",
       "      <th>acontent</th>\n",
       "      <th>fid_x</th>\n",
       "      <th>score_x</th>\n",
       "      <th>fid_y</th>\n",
       "      <th>score_y</th>\n",
       "      <th>fid</th>\n",
       "      <th>score</th>\n",
       "    </tr>\n",
       "  </thead>\n",
       "  <tbody>\n",
       "    <tr>\n",
       "      <th>0</th>\n",
       "      <td>01100201.20031209000002302</td>\n",
       "      <td>2003</td>\n",
       "      <td>2003.12.09</td>\n",
       "      <td>국민일보</td>\n",
       "      <td>[한마당] 김현덕 / 무기를 버려라</td>\n",
       "      <td>①“무기를버려라...북한측은게다가북한의인권마약테러문제를언급해협상하러온북한을자극했다....</td>\n",
       "      <td>416</td>\n",
       "      <td>0.018114</td>\n",
       "      <td>1024</td>\n",
       "      <td>0.138815</td>\n",
       "      <td>879</td>\n",
       "      <td>0.067921</td>\n",
       "    </tr>\n",
       "    <tr>\n",
       "      <th>1</th>\n",
       "      <td>[ID]0311223402</td>\n",
       "      <td>2003</td>\n",
       "      <td>2003.11.22</td>\n",
       "      <td>조선일보</td>\n",
       "      <td>[김대중칼럼] 워싱턴에서 북한 人權과 민족공조</td>\n",
       "      <td>나왔다미국의북한인권(人權)위원회가‘숨겨진굴라그(gulag)’라는타이틀로내놓은120쪽...</td>\n",
       "      <td>416</td>\n",
       "      <td>0.042608</td>\n",
       "      <td>1024</td>\n",
       "      <td>0.187760</td>\n",
       "      <td>879</td>\n",
       "      <td>0.010172</td>\n",
       "    </tr>\n",
       "  </tbody>\n",
       "</table>\n",
       "</div>"
      ],
      "text/plain": [
       "                          aid  parsedyear       adate anewspaper  \\\n",
       "0  01100201.20031209000002302        2003  2003.12.09       국민일보   \n",
       "1              [ID]0311223402        2003  2003.11.22       조선일보   \n",
       "\n",
       "                      atitle  \\\n",
       "0        [한마당] 김현덕 / 무기를 버려라   \n",
       "1  [김대중칼럼] 워싱턴에서 북한 人權과 민족공조   \n",
       "\n",
       "                                            acontent  fid_x   score_x  fid_y  \\\n",
       "0  ①“무기를버려라...북한측은게다가북한의인권마약테러문제를언급해협상하러온북한을자극했다....    416  0.018114   1024   \n",
       "1  나왔다미국의북한인권(人權)위원회가‘숨겨진굴라그(gulag)’라는타이틀로내놓은120쪽...    416  0.042608   1024   \n",
       "\n",
       "    score_y  fid     score  \n",
       "0  0.138815  879  0.067921  \n",
       "1  0.187760  879  0.010172  "
      ]
     },
     "execution_count": 50,
     "metadata": {},
     "output_type": "execute_result"
    }
   ],
   "source": [
    "cdf = extract_articles(2003,[416,1024,879])\n",
    "df_to_html(cdf,2003,[416,1024,879])"
   ]
  },
  {
   "cell_type": "markdown",
   "metadata": {},
   "source": [
    "### 2004\tConservative clique\t416\tpolitics of N/S unification\n",
    "-  1024\tincrease in defectors in Korean society\n",
    "-  1130\tNK nuclear issue and 6 party talks\n",
    "-  35\tN & S strategic posturing"
   ]
  },
  {
   "cell_type": "code",
   "execution_count": 91,
   "metadata": {},
   "outputs": [
    {
     "name": "stdout",
     "output_type": "stream",
     "text": [
      "add a variable, score_rank\n",
      "sort articles by sum of score_rank\n",
      "(63, 12)\n",
      "export cdf articles as an html file\n",
      "convert the cdf articles to a user-friendly html file\n"
     ]
    },
    {
     "ename": "NameError",
     "evalue": "name 'row_to_html' is not defined",
     "output_type": "error",
     "traceback": [
      "\u001b[1;31m---------------------------------------------------------------------------\u001b[0m",
      "\u001b[1;31mNameError\u001b[0m                                 Traceback (most recent call last)",
      "\u001b[1;32m<ipython-input-91-c1dfb8d546c7>\u001b[0m in \u001b[0;36m<module>\u001b[1;34m\u001b[0m\n\u001b[0;32m      1\u001b[0m \u001b[0mcdf\u001b[0m \u001b[1;33m=\u001b[0m \u001b[0mextract_articles\u001b[0m\u001b[1;33m(\u001b[0m\u001b[1;36m2004\u001b[0m\u001b[1;33m,\u001b[0m\u001b[1;33m[\u001b[0m\u001b[1;36m1024\u001b[0m\u001b[1;33m,\u001b[0m\u001b[1;36m1130\u001b[0m\u001b[1;33m,\u001b[0m\u001b[1;36m35\u001b[0m\u001b[1;33m]\u001b[0m\u001b[1;33m)\u001b[0m\u001b[1;33m\u001b[0m\u001b[1;33m\u001b[0m\u001b[0m\n\u001b[1;32m----> 2\u001b[1;33m \u001b[0mdf_to_html\u001b[0m\u001b[1;33m(\u001b[0m\u001b[0mcdf\u001b[0m\u001b[1;33m,\u001b[0m\u001b[1;36m2004\u001b[0m\u001b[1;33m,\u001b[0m\u001b[1;33m[\u001b[0m\u001b[1;36m1024\u001b[0m\u001b[1;33m,\u001b[0m\u001b[1;36m1130\u001b[0m\u001b[1;33m,\u001b[0m\u001b[1;36m35\u001b[0m\u001b[1;33m]\u001b[0m\u001b[1;33m)\u001b[0m\u001b[1;33m\u001b[0m\u001b[1;33m\u001b[0m\u001b[0m\n\u001b[0m",
      "\u001b[1;32m<ipython-input-90-a8fc9ee92f56>\u001b[0m in \u001b[0;36mdf_to_html\u001b[1;34m(cdf, year, factor_list)\u001b[0m\n\u001b[0;32m     12\u001b[0m \u001b[1;33m\u001b[0m\u001b[0m\n\u001b[0;32m     13\u001b[0m     \u001b[1;32mfor\u001b[0m \u001b[0mrow\u001b[0m \u001b[1;32min\u001b[0m \u001b[0mcdf\u001b[0m\u001b[1;33m:\u001b[0m\u001b[1;33m\u001b[0m\u001b[1;33m\u001b[0m\u001b[0m\n\u001b[1;32m---> 14\u001b[1;33m         \u001b[0mf\u001b[0m\u001b[1;33m.\u001b[0m\u001b[0mwrite\u001b[0m\u001b[1;33m(\u001b[0m\u001b[0mrow_to_html\u001b[0m\u001b[1;33m(\u001b[0m\u001b[0mrow\u001b[0m\u001b[1;33m)\u001b[0m\u001b[1;33m)\u001b[0m\u001b[1;33m\u001b[0m\u001b[1;33m\u001b[0m\u001b[0m\n\u001b[0m",
      "\u001b[1;31mNameError\u001b[0m: name 'row_to_html' is not defined"
     ]
    }
   ],
   "source": [
    "cdf = extract_articles(2004,[1024,1130,35])\n",
    "df_to_html(cdf,2004,[1024,1130,35])"
   ]
  },
  {
   "cell_type": "markdown",
   "metadata": {},
   "source": [
    "### 2004\tConservative linkages to the clique - treat as clique\n",
    "-  #1 879\tlegacy of the democratization movement\n",
    "-  #2 218\tstrong response to NK security crisis"
   ]
  },
  {
   "cell_type": "code",
   "execution_count": null,
   "metadata": {},
   "outputs": [],
   "source": [
    "cdf = extract_articles(2004,[1024,1130,35])\n",
    "df_to_html(cdf,2004,[1024,1130,35])"
   ]
  },
  {
   "cell_type": "markdown",
   "metadata": {},
   "source": [
    "### 2005\tBi-partisan clique\n",
    "-  416\tpolitics of N/S unification\n",
    "-  1024\tincrease in defectors in Korean society\n",
    "-  1130\tNK nuclear issue & 6 party talks\n",
    "-  35\tN & S strategic posturing\n",
    "-  1098\tPerry process: Yongbyon, IAEA, LWR\n",
    "-  1328\t6-Party Talks: negotiation: Kelly, Hill, Bush, State Dep"
   ]
  },
  {
   "cell_type": "code",
   "execution_count": null,
   "metadata": {},
   "outputs": [],
   "source": []
  },
  {
   "cell_type": "markdown",
   "metadata": {},
   "source": [
    "### 2005\tConservative linkages to the clique\n",
    "-  #1 879\tlegacy of the democratization movement\n",
    "-  #2 244\treal change, improvement, advancement, international community\n",
    "-  #3 264\tvoting in the UN and EU\n",
    "-  #4 1218\tstrong response to NK security crisis"
   ]
  },
  {
   "cell_type": "code",
   "execution_count": null,
   "metadata": {},
   "outputs": [],
   "source": []
  },
  {
   "cell_type": "markdown",
   "metadata": {},
   "source": [
    "### 2005\tProgressive linkages to the clique\n",
    "-  #1 1417\tbilateral US-ROK relationship\n",
    "-  #2 746\teconomic sanctions for nuclear experiments, UN Security Council"
   ]
  },
  {
   "cell_type": "code",
   "execution_count": null,
   "metadata": {},
   "outputs": [],
   "source": []
  },
  {
   "cell_type": "markdown",
   "metadata": {},
   "source": [
    "# 2014 - 2016 components"
   ]
  },
  {
   "cell_type": "markdown",
   "metadata": {},
   "source": [
    "### 2014\tProgressive clique\t416\tpolitics of N/S unification\n",
    "-  1024\tincrease in defectors in Korean society\n",
    "-  35\tN & S strategic posturing\n",
    "-  271\tICC, COI: criminal, report, violation, extradition\n",
    "-  1093\tICC, UN: criminal courts, adopt resolution\n",
    "-  1130\tNK nuclear issue & 6 party talks\n",
    "-  746\teconomic sanctions for nuclear experiments, UN Security Council"
   ]
  },
  {
   "cell_type": "code",
   "execution_count": null,
   "metadata": {},
   "outputs": [],
   "source": []
  },
  {
   "cell_type": "markdown",
   "metadata": {},
   "source": [
    "### 2014\tProgressive dyad #1 linked to clique\n",
    "-  1417\tbilateral US-ROK relationship\n",
    "-  383\tKorea-America alliance: FTA, ratification, mutual assistance"
   ]
  },
  {
   "cell_type": "code",
   "execution_count": null,
   "metadata": {},
   "outputs": [],
   "source": []
  },
  {
   "cell_type": "markdown",
   "metadata": {},
   "source": [
    "### 2014\tProgressive dyad #2 linked to clique\n",
    "-  308\tlegislative conflict over passing a bill\n",
    "-  295\tbill, right to life: Saenuri, NDAP, Shim Jae-kwon"
   ]
  },
  {
   "cell_type": "code",
   "execution_count": null,
   "metadata": {},
   "outputs": [],
   "source": []
  },
  {
   "cell_type": "markdown",
   "metadata": {},
   "source": [
    "### 2014\tConservative triad linked to clique\n",
    "-  1024\tincrease in defectors in Korean society\n",
    "-  271\tICC, COI: criminal, report, violation, extradition\n",
    "-  1093\tICC, UN: criminal courts, adopt resolution"
   ]
  },
  {
   "cell_type": "code",
   "execution_count": null,
   "metadata": {},
   "outputs": [],
   "source": []
  },
  {
   "cell_type": "markdown",
   "metadata": {},
   "source": [
    "### 2015\tBi-partisan triad\n",
    "-  416\tpolitics of N/S unification\n",
    "-  1024\tincrease in defectors in Korean society\n",
    "-  1218\tPark's strong response to NK security crisis"
   ]
  },
  {
   "cell_type": "code",
   "execution_count": null,
   "metadata": {},
   "outputs": [],
   "source": []
  },
  {
   "cell_type": "markdown",
   "metadata": {},
   "source": [
    "### 2015\tBi-partisan dyad\n",
    "-  416\tpolitics of N/S unification\n",
    "-  308\tlegislative conflict over passing a bill"
   ]
  },
  {
   "cell_type": "code",
   "execution_count": null,
   "metadata": {},
   "outputs": [],
   "source": []
  },
  {
   "cell_type": "markdown",
   "metadata": {},
   "source": [
    "### 2015\tConservative clique\n",
    "-  416\tpolitics of N/S unification\n",
    "-  308\tlegislative conflict over passing a bill\n",
    "-  572\tdomestic electoral & legislative politics\n",
    "-  794\tone-shot law, human rights act (SK), National Assembly procedure"
   ]
  },
  {
   "cell_type": "code",
   "execution_count": null,
   "metadata": {},
   "outputs": [],
   "source": []
  },
  {
   "cell_type": "markdown",
   "metadata": {},
   "source": [
    "### 2015\tConservative link to clique\n",
    "-  295\tbill, right to life: Saenuri, NDAP, Shim Jae-kwon"
   ]
  },
  {
   "cell_type": "code",
   "execution_count": null,
   "metadata": {},
   "outputs": [],
   "source": []
  },
  {
   "cell_type": "markdown",
   "metadata": {},
   "source": [
    "### 2015\tProgressive clique\n",
    "-  416\tpolitics of N/S unification\n",
    "-  1130\tNK nuclear issue & 6 party talks\n",
    "-  746\teconomic sanctions for nuclear experiments, UN Security Council\n",
    "-  924\tNK security: violations, denuclearization, ballistic missile launches, provocation"
   ]
  },
  {
   "cell_type": "code",
   "execution_count": null,
   "metadata": {},
   "outputs": [],
   "source": []
  },
  {
   "cell_type": "markdown",
   "metadata": {},
   "source": [
    "### 2015\tProgressive linkages (each separately linked to progressive clique)\n",
    "-  1417\tbilateral US-ROK relationship\n",
    "-  35\tN & S strategic posturing\n",
    "-  383\tKorea-America alliance: FTA, ratification, mutual assistance\n",
    "-  244\treal change, improvement, advancement, international community"
   ]
  },
  {
   "cell_type": "code",
   "execution_count": null,
   "metadata": {},
   "outputs": [],
   "source": []
  },
  {
   "cell_type": "markdown",
   "metadata": {},
   "source": [
    "### 2016\tBi-partisan triad\n",
    "-  35\tN & S strategic posturing\n",
    "-  1218\tstrong response to NK security crisis\n",
    "-  794\tone-shot law, human rights act (SK), National Assembly procedure"
   ]
  },
  {
   "cell_type": "code",
   "execution_count": null,
   "metadata": {},
   "outputs": [],
   "source": []
  },
  {
   "cell_type": "markdown",
   "metadata": {},
   "source": [
    "### 2016\tConservative clique\n",
    "-  572\tdomestic electoral & legislative politics\n",
    "-  416\tpolitics of N/S unification\n",
    "-  794\tone-shot law, human rights act (SK), National Assembly procedure\n",
    "-  308\tlegislative conflict over passing a bill\n",
    "-  1024\tincrease in defectors in Korean society\n",
    "-  35\tN & S strategic posturing"
   ]
  },
  {
   "cell_type": "code",
   "execution_count": null,
   "metadata": {},
   "outputs": [],
   "source": []
  },
  {
   "cell_type": "markdown",
   "metadata": {},
   "source": [
    "### 2016\tProgressive triad #1\n",
    "-  416\tpolitics of N/S unification\n",
    "-  1218\tstrong response to NK security crisis\n",
    "-  746\teconomic sanctions for nuclear experiments, UN Security Council"
   ]
  },
  {
   "cell_type": "markdown",
   "metadata": {},
   "source": [
    "### 2016\tProgressive triad #2\n",
    "-  416\tpolitics of N/S unification\n",
    "-  746\teconomic sanctions for nuclear experiments, UN Security Council\n",
    "-  924\tNK security: violations, denuclearization, ballistic missile launches, provocation"
   ]
  },
  {
   "cell_type": "markdown",
   "metadata": {},
   "source": [
    "# Export Tables to Excel"
   ]
  },
  {
   "cell_type": "code",
   "execution_count": 9,
   "metadata": {},
   "outputs": [],
   "source": [
    "# factor = pd.read_sql_query(\"SELECT * from Factor\", db)"
   ]
  },
  {
   "cell_type": "code",
   "execution_count": null,
   "metadata": {},
   "outputs": [],
   "source": [
    "# articlefactorlink = pd.read_sql_query(\"SELECT * from ArticleFactorLink\", db)"
   ]
  },
  {
   "cell_type": "code",
   "execution_count": 28,
   "metadata": {},
   "outputs": [],
   "source": [
    "# article = pd.read_sql_query(\"SELECT alink, anewspaper, adate, aday, agenre, atitle, aextra, acontent, aid, aauthor, aemail, aprose, parsedyear, parsedmonth, parsedday from Article\", db)"
   ]
  },
  {
   "cell_type": "code",
   "execution_count": null,
   "metadata": {},
   "outputs": [],
   "source": []
  },
  {
   "cell_type": "code",
   "execution_count": null,
   "metadata": {},
   "outputs": [],
   "source": [
    "# alink, anewspaper, adate, aday, agenre, atitle, aextra, acontent, aid, aauthor, aemail, aprose, parsedyear, parsedmonth, parsedday"
   ]
  },
  {
   "cell_type": "code",
   "execution_count": null,
   "metadata": {},
   "outputs": [],
   "source": [
    "# shorter\n",
    "\n",
    "# article = pd.read_sql_query(\"SELECT parsedyear from Article\", db)"
   ]
  },
  {
   "cell_type": "code",
   "execution_count": null,
   "metadata": {},
   "outputs": [],
   "source": []
  },
  {
   "cell_type": "code",
   "execution_count": 15,
   "metadata": {},
   "outputs": [],
   "source": [
    "# factor.to_excel(\"../data/1 pandas excel/factor.xlsx\",index=False,encoding=\"utf-8\")"
   ]
  },
  {
   "cell_type": "code",
   "execution_count": null,
   "metadata": {},
   "outputs": [],
   "source": [
    "# articlefactorlink.to_excel(\"../data/1 pandas excel/articlefactorlink.xlsx\",index=False,encoding=\"utf-8\")"
   ]
  },
  {
   "cell_type": "code",
   "execution_count": 17,
   "metadata": {},
   "outputs": [],
   "source": [
    "# article.to_excel(\"../data/1 pandas excel/article.xlsx\",index=False,encoding=\"utf-8\")"
   ]
  },
  {
   "cell_type": "code",
   "execution_count": 18,
   "metadata": {},
   "outputs": [],
   "source": []
  },
  {
   "cell_type": "code",
   "execution_count": null,
   "metadata": {},
   "outputs": [],
   "source": []
  },
  {
   "cell_type": "code",
   "execution_count": null,
   "metadata": {},
   "outputs": [],
   "source": []
  },
  {
   "cell_type": "code",
   "execution_count": null,
   "metadata": {},
   "outputs": [],
   "source": []
  }
 ],
 "metadata": {
  "kernelspec": {
   "display_name": "Python 3",
   "language": "python",
   "name": "python3"
  },
  "language_info": {
   "codemirror_mode": {
    "name": "ipython",
    "version": 3
   },
   "file_extension": ".py",
   "mimetype": "text/x-python",
   "name": "python",
   "nbconvert_exporter": "python",
   "pygments_lexer": "ipython3",
   "version": "3.7.3"
  }
 },
 "nbformat": 4,
 "nbformat_minor": 4
}
